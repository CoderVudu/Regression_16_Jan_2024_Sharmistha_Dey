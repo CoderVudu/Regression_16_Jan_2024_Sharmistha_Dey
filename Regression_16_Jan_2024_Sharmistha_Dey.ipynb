{
  "nbformat": 4,
  "nbformat_minor": 0,
  "metadata": {
    "colab": {
      "provenance": [],
      "authorship_tag": "ABX9TyOb0ZfVxLueW/cK0LOVZf2o",
      "include_colab_link": true
    },
    "kernelspec": {
      "name": "python3",
      "display_name": "Python 3"
    },
    "language_info": {
      "name": "python"
    }
  },
  "cells": [
    {
      "cell_type": "markdown",
      "metadata": {
        "id": "view-in-github",
        "colab_type": "text"
      },
      "source": [
        "<a href=\"https://colab.research.google.com/github/CoderVudu/Regression_16_Jan_2024_Sharmistha_Dey/blob/main/Regression_16_Jan_2024_Sharmistha_Dey.ipynb\" target=\"_parent\"><img src=\"https://colab.research.google.com/assets/colab-badge.svg\" alt=\"Open In Colab\"/></a>"
      ]
    },
    {
      "cell_type": "markdown",
      "source": [
        "##Theoretical"
      ],
      "metadata": {
        "id": "aw4-fqdLbRw0"
      }
    },
    {
      "cell_type": "markdown",
      "source": [
        "##1. What does R-squared represent in a regression model?"
      ],
      "metadata": {
        "id": "iWxPVJcKbWet"
      }
    },
    {
      "cell_type": "markdown",
      "source": [
        "R-squared, or the coefficient of determination, measures the proportion of the variance in the dependent variable that is explained by the independent variables in a regression model. It indicates the model's goodness of fit, with values ranging from 0 to 1. An R-squared of 0 means the model explains none of the variance, while 1 means it explains all. However, a high R-squared doesn’t necessarily mean the model is good, as it might overfit the data. In machine learning, R-squared helps evaluate predictive performance but should be used alongside other metrics like RMSE or MAE for better insight."
      ],
      "metadata": {
        "id": "qKANQppDbjWv"
      }
    },
    {
      "cell_type": "markdown",
      "source": [
        "##2. What are the assumptions of linear regression?"
      ],
      "metadata": {
        "id": "XixaLbp4bzKd"
      }
    },
    {
      "cell_type": "markdown",
      "source": [
        "The assumptions of linear regression in machine learning are:\n",
        "\n",
        "1. **Linearity**: The relationship between independent variables and the dependent variable is linear.\n",
        "2. **Independence**: Observations are independent of each other.\n",
        "3. **Homoscedasticity**: The variance of residuals is constant across all levels of the independent variables.\n",
        "4. **Normality of Residuals**: Residuals (errors) are normally distributed.\n",
        "5. **No Multicollinearity**: Independent variables are not highly correlated with each other.\n",
        "6. **No Autocorrelation**: Errors are not correlated over time (relevant for time-series data).\n",
        "7. **Feature Relevance**: All relevant predictors are included, and irrelevant ones are excluded to avoid bias."
      ],
      "metadata": {
        "id": "SqHu2Drefrlt"
      }
    },
    {
      "cell_type": "markdown",
      "source": [
        "##3. What is the difference between R-squared and Adjusted R-squared?"
      ],
      "metadata": {
        "id": "9DBHiUjLf33d"
      }
    },
    {
      "cell_type": "markdown",
      "source": [
        "R-squared measures the proportion of variance in the dependent variable explained by the independent variables in a regression model, indicating the model's overall fit. However, it increases with additional variables, even if they add no real predictive value.\n",
        "\n",
        "Adjusted R-squared accounts for the number of predictors and adjusts for their contribution, penalizing the addition of irrelevant variables. It prevents overfitting by decreasing if unnecessary predictors are added.\n",
        "\n",
        "In machine learning, R-squared is simpler but may overestimate model performance, while adjusted R-squared is more robust in evaluating models with multiple predictors, ensuring only meaningful variables improve the model's explanatory power."
      ],
      "metadata": {
        "id": "sMT14wYHf80e"
      }
    },
    {
      "cell_type": "markdown",
      "source": [
        "##4. Why do we use Mean Squared Error (MSE)?"
      ],
      "metadata": {
        "id": "QopuP11igFdy"
      }
    },
    {
      "cell_type": "markdown",
      "source": [
        "Mean Squared Error (MSE) is widely used in machine learning as a performance metric for regression models. It measures the average squared difference between predicted and actual values, penalizing larger errors more heavily. This makes it effective for identifying significant deviations and optimizing model accuracy. MSE is computationally straightforward, differentiable, and aligns well with gradient-based optimization algorithms like gradient descent, enabling efficient model training. By squaring errors, MSE ensures that both positive and negative errors contribute equally, helping models achieve balanced predictions. Its sensitivity to outliers, though a limitation, can also guide the model to minimize impactful prediction errors."
      ],
      "metadata": {
        "id": "MNxznKpRgJNm"
      }
    },
    {
      "cell_type": "markdown",
      "source": [
        "##5. What does an Adjusted R-squared value of 0.85 indicate?"
      ],
      "metadata": {
        "id": "ke5YY8kggr8b"
      }
    },
    {
      "cell_type": "markdown",
      "source": [
        "An Adjusted R-squared value of 0.85 in machine learning indicates that 85% of the variance in the dependent variable is explained by the independent variables in the model, accounting for the number of predictors. Unlike R-squared, Adjusted R-squared adjusts for the number of predictors, penalizing the inclusion of irrelevant variables. A value of 0.85 suggests the model fits the data well, but it doesn’t guarantee predictive accuracy or causation. It’s essential to validate the model with other metrics, such as RMSE or cross-validation, to ensure robustness and avoid overfitting, especially in complex or high-dimensional datasets."
      ],
      "metadata": {
        "id": "UtrCa90ugv8y"
      }
    },
    {
      "cell_type": "markdown",
      "source": [
        "##6. How do we check for normality of residuals in linear regression?"
      ],
      "metadata": {
        "id": "pV-gN08Dg3Fg"
      }
    },
    {
      "cell_type": "markdown",
      "source": [
        "To check for normality of residuals in linear regression (ML), analyze the residuals (differences between observed and predicted values). Key methods include:\n",
        "\n",
        "1. **Histogram/QQ Plot**: Visualize residuals; they should form a bell curve in a histogram or align with the diagonal line in a QQ plot.\n",
        "2. **Statistical Tests**: Use tests like Shapiro-Wilk or Kolmogorov-Smirnov to assess normality numerically.\n",
        "3. **Skewness & Kurtosis**: Measure skewness (symmetry) and kurtosis (tailedness) for deviations from normality.\n",
        "4. **Standardized Residuals**: Check if they follow a standard normal distribution (mean = 0, SD = 1)."
      ],
      "metadata": {
        "id": "_Y25tqwxhCEW"
      }
    },
    {
      "cell_type": "markdown",
      "source": [
        "##7. What is multicollinearity, and how does it impact regression?"
      ],
      "metadata": {
        "id": "0ZiKxbgqhFsK"
      }
    },
    {
      "cell_type": "markdown",
      "source": [
        "Multicollinearity occurs in regression analysis when two or more independent variables are highly correlated, meaning they contain redundant information. This makes it difficult for the model to determine the individual impact of each variable, leading to unstable coefficient estimates. High multicollinearity can inflate standard errors, reduce the reliability of statistical tests, and hinder the model's interpretability. While multicollinearity does not affect the predictive power of the model, it complicates understanding variable relationships and may lead to overfitting in machine learning. Techniques like removing highly correlated variables, regularization (e.g., Lasso), or Principal Component Analysis (PCA) can mitigate its effects."
      ],
      "metadata": {
        "id": "TAii7sNLhKP0"
      }
    },
    {
      "cell_type": "markdown",
      "source": [
        "##8. What is Mean Absolute Error (MAE)?"
      ],
      "metadata": {
        "id": "bSmAkrLGhV_d"
      }
    },
    {
      "cell_type": "markdown",
      "source": [
        "Mean Absolute Error (MAE) is a widely used metric in machine learning to evaluate the accuracy of regression models. It measures the average magnitude of the errors between the predicted and actual values, ignoring their direction. Mathematically, MAE is calculated as the sum of the absolute differences between predicted and actual values, divided by the total number of data points.\n",
        "\n",
        "MAE is straightforward to interpret, as it provides the mean error in the same units as the target variable, making it ideal for understanding model performance."
      ],
      "metadata": {
        "id": "ZhJF449_hajF"
      }
    },
    {
      "cell_type": "markdown",
      "source": [
        "##9. What are the benefits of using an ML pipeline?"
      ],
      "metadata": {
        "id": "B4GR_eXrhhJb"
      }
    },
    {
      "cell_type": "markdown",
      "source": [
        "Using an ML pipeline streamlines the machine learning workflow, enhancing efficiency and reproducibility. It automates tasks such as data preprocessing, feature engineering, model training, evaluation, and deployment, ensuring consistency and reducing errors. Pipelines facilitate modularity, allowing easy updates or replacements of components without disrupting the entire process. They also support scalability, enabling the handling of large datasets and complex models. Integration with version control improves collaboration and monitoring. By standardizing processes, ML pipelines save time, reduce manual effort, and improve model performance, making them essential for deploying robust and reliable machine learning solutions in production environments."
      ],
      "metadata": {
        "id": "r96ipqHxhwUm"
      }
    },
    {
      "cell_type": "markdown",
      "source": [
        "##10. Why is RMSE considered more interpretable than MSE?"
      ],
      "metadata": {
        "id": "6A8OH2ZEkQcT"
      }
    },
    {
      "cell_type": "markdown",
      "source": [
        "RMSE (Root Mean Squared Error) is considered more interpretable than MSE (Mean Squared Error) in machine learning because RMSE is in the same units as the target variable, making it easier to understand and relate to real-world values. MSE, on the other hand, is expressed in squared units, which can make it harder to interpret in the context of the problem being solved. RMSE provides a direct measure of model performance by showing how much, on average, the predicted values deviate from the actual values, allowing for more intuitive comparisons across models and datasets."
      ],
      "metadata": {
        "id": "LnArJVsOkUbw"
      }
    },
    {
      "cell_type": "markdown",
      "source": [
        "##11. What is pickling in Python, and how is it useful in ML?"
      ],
      "metadata": {
        "id": "7wtegHgyka3N"
      }
    },
    {
      "cell_type": "markdown",
      "source": [
        "Pickling in Python refers to the process of converting a Python object into a byte stream, which can be stored in a file or transmitted over a network. This is done using the `pickle` module. In machine learning, pickling is useful for saving trained models, so they can be reused without retraining. This allows models to be deployed, shared, and loaded efficiently across different systems. It also helps in saving intermediate results, preserving model states, and managing training pipelines, making it essential for scalable and reproducible machine learning workflows."
      ],
      "metadata": {
        "id": "OOuL-NUgkhUa"
      }
    },
    {
      "cell_type": "markdown",
      "source": [
        "##12. What does a high R-squared value mean?"
      ],
      "metadata": {
        "id": "bIXPrF_JknGQ"
      }
    },
    {
      "cell_type": "markdown",
      "source": [
        "In machine learning, a high R-squared value indicates that the model explains a large proportion of the variance in the dependent variable. Specifically, it measures how well the model's predictions match the actual data. An R-squared value close to 1 means the model fits the data well, with most of the variance accounted for. Conversely, an R-squared value close to 0 suggests the model does not explain much of the variance, indicating a poor fit. While a high R-squared is desirable, it doesn't guarantee that the model is the best; overfitting can also result in high R-squared values."
      ],
      "metadata": {
        "id": "74PuZpAEkqsc"
      }
    },
    {
      "cell_type": "markdown",
      "source": [
        "##13. What happens if linear regression assumptions are violated?"
      ],
      "metadata": {
        "id": "GQZ4VSA3kvuj"
      }
    },
    {
      "cell_type": "markdown",
      "source": [
        "When linear regression assumptions are violated, the model's reliability and accuracy can be compromised. Violations of assumptions such as linearity, independence, homoscedasticity (constant variance), and normality of errors can lead to biased or inefficient estimates. For example, if residuals are not independent, predictions may become unreliable, and if homoscedasticity is violated, the model may underperform in certain regions of the data. Non-normal residuals can affect hypothesis testing and confidence intervals. Ultimately, the model may lose predictive power, and its interpretation might be misleading, requiring alternative methods or data transformations to address the issues."
      ],
      "metadata": {
        "id": "67j-vJvTkz2K"
      }
    },
    {
      "cell_type": "markdown",
      "source": [
        "##14.  How can we address multicollinearity in regression?"
      ],
      "metadata": {
        "id": "5ev6jorWk5YS"
      }
    },
    {
      "cell_type": "markdown",
      "source": [
        "To address multicollinearity in regression models, several approaches can be used:\n",
        "\n",
        "1. **Remove correlated predictors**: Identify and exclude highly correlated variables.\n",
        "2. **Principal Component Analysis (PCA)**: Transform correlated variables into a smaller set of uncorrelated components.\n",
        "3. **Regularization techniques**: Use methods like Lasso (L1) or Ridge (L2) regression to penalize large coefficients and reduce multicollinearity.\n",
        "4. **Variance Inflation Factor (VIF)**: Calculate VIF values and remove variables with high VIF.\n",
        "5. **Combine variables**: Create composite indicators or averages from highly correlated features. These methods help improve model stability and interpretability."
      ],
      "metadata": {
        "id": "k5RUkuqck9C9"
      }
    },
    {
      "cell_type": "markdown",
      "source": [
        "##15. Why do we use pipelines in machine learning?"
      ],
      "metadata": {
        "id": "-bQi3QWDlGM2"
      }
    },
    {
      "cell_type": "markdown",
      "source": [
        "Pipelines in machine learning are used to streamline and automate the workflow of data preprocessing, model training, and evaluation. They help ensure consistent and reproducible results by organizing multiple steps into a single process. Pipelines allow for easy experimentation with different algorithms or preprocessing techniques without manually changing the data each time. Additionally, they help prevent data leakage by ensuring that the training and testing datasets remain separate throughout the process. By encapsulating the entire workflow, pipelines improve efficiency, scalability, and maintainability, making it easier to manage complex models and workflows in machine learning projects."
      ],
      "metadata": {
        "id": "IJNFxa7RlJ4C"
      }
    },
    {
      "cell_type": "markdown",
      "source": [
        "##16. How is Adjusted R-squared calculated?"
      ],
      "metadata": {
        "id": "h0Bc2KUElPOQ"
      }
    },
    {
      "cell_type": "markdown",
      "source": [
        "Adjusted R-squared is a statistical metric used to evaluate the goodness of fit of a regression model, accounting for the number of predictors used. It adjusts the R-squared value by penalizing the inclusion of unnecessary variables. The formula is:\n",
        "\n",
        "\\[\n",
        "\\{Adjusted R-squared} = 1 - ( {(1 - R^2) \\times (n - 1)}{n - p - 1})\n",
        "\\]\n",
        "\n",
        "Where:\n",
        "- \\( R^2 \\) is the regular R-squared value,\n",
        "- \\( n \\) is the number of data points,\n",
        "- \\( p \\) is the number of predictors (independent variables).\n",
        "\n",
        "It helps avoid overfitting and provides a more accurate measure of model performance."
      ],
      "metadata": {
        "id": "lhLDYmWAlSkC"
      }
    },
    {
      "cell_type": "markdown",
      "source": [
        "##17. Why is MSE sensitive to outliers?"
      ],
      "metadata": {
        "id": "dfLiUkgFlrWO"
      }
    },
    {
      "cell_type": "markdown",
      "source": [
        "Mean Squared Error (MSE) is sensitive to outliers because it squares the differences between predicted and actual values. This squaring amplifies the impact of large errors, meaning that data points far from the predicted values (i.e., outliers) contribute disproportionately to the overall error. As a result, outliers can significantly skew the model's performance, leading to suboptimal parameter estimation and predictions. This sensitivity makes MSE less robust in datasets with outliers, as it gives too much weight to extreme values, potentially distorting the model's ability to generalize well to the rest of the data."
      ],
      "metadata": {
        "id": "lO8TNG7Nlw76"
      }
    },
    {
      "cell_type": "markdown",
      "source": [
        "##18. What is the role of homoscedasticity in linear regression?"
      ],
      "metadata": {
        "id": "XWYpRSkal19q"
      }
    },
    {
      "cell_type": "markdown",
      "source": [
        "Homoscedasticity refers to the assumption that the variance of the errors (residuals) in a linear regression model is constant across all levels of the independent variable(s). In machine learning, this assumption is critical for the validity of the regression model's predictions and statistical tests. If the variance of the residuals changes (heteroscedasticity), it can lead to inefficient estimates, biased predictions, and inaccurate confidence intervals. Homoscedasticity ensures that the model's errors are uniformly distributed, enhancing model reliability and interpretability. Detecting and addressing heteroscedasticity can improve the model's accuracy and performance in machine learning tasks."
      ],
      "metadata": {
        "id": "taXxQTKGl5va"
      }
    },
    {
      "cell_type": "markdown",
      "source": [
        "##19. What is Root Mean Squared Error (RMSE)?"
      ],
      "metadata": {
        "id": "MoAHvGQql-oX"
      }
    },
    {
      "cell_type": "markdown",
      "source": [
        "Root Mean Squared Error (RMSE) is a metric used to evaluate the performance of a machine learning model, especially in regression tasks. It measures the average magnitude of errors between predicted and actual values. RMSE is calculated by taking the square root of the average of squared differences between predicted and actual values. A lower RMSE indicates better model accuracy, as it means the predictions are closer to the true values. RMSE is sensitive to outliers due to the squaring of errors, making it a useful but sometimes strict metric for model evaluation."
      ],
      "metadata": {
        "id": "F9pCMAe3mDOV"
      }
    },
    {
      "cell_type": "markdown",
      "source": [
        "##20. Why is pickling considered risky?"
      ],
      "metadata": {
        "id": "qVcnsu2ymH38"
      }
    },
    {
      "cell_type": "markdown",
      "source": [
        "Pickling in machine learning (ML) refers to the process of serializing data or models to store them for later use. It is considered risky for several reasons:\n",
        "\n",
        "1. **Security vulnerabilities**: Pickled data can execute arbitrary code during deserialization, making it susceptible to malicious attacks, especially if the source is untrusted.\n",
        "2. **Compatibility issues**: Pickled objects may break when the code or libraries change, leading to potential errors or incompatibilities.\n",
        "3. **Data integrity**: Pickling doesn't always preserve the structure or integrity of data, which can lead to issues when reloading models or datasets.\n",
        "\n",
        "Thus, alternatives like JSON or HDF5 are often preferred for better safety and portability."
      ],
      "metadata": {
        "id": "VkBUE9YVmMbf"
      }
    },
    {
      "cell_type": "markdown",
      "source": [
        "##21. What alternatives exist to pickling for saving ML models?"
      ],
      "metadata": {
        "id": "5zK6HcCgmmwj"
      }
    },
    {
      "cell_type": "markdown",
      "source": [
        "Alternatives to pickling for saving machine learning models include:\n",
        "\n",
        "1. **Joblib**: A library optimized for saving large models efficiently, especially for models with large numerical arrays.\n",
        "2. **TensorFlow SavedModel**: A format used to save TensorFlow models, storing both the model architecture and weights.\n",
        "3. **ONNX (Open Neural Network Exchange)**: A cross-platform format that allows models to be shared between different frameworks like PyTorch, TensorFlow, and Scikit-learn.\n",
        "4. **HDF5**: A file format used to store large datasets, often used for saving neural network models in Keras.\n",
        "5. **JSON or YAML**: For saving model architecture, while weights can be stored separately in formats like NumPy or HDF5."
      ],
      "metadata": {
        "id": "sJyERKKnmqmL"
      }
    },
    {
      "cell_type": "markdown",
      "source": [
        "##22.  What is heteroscedasticity, and why is it a problem?"
      ],
      "metadata": {
        "id": "wjKbC0nkmwLb"
      }
    },
    {
      "cell_type": "markdown",
      "source": [
        "Heteroscedasticity refers to the situation in machine learning (ML) or statistical modeling where the variance of errors (residuals) is not constant across all levels of the independent variables. In simpler terms, the spread or variability of the error terms changes as the value of the independent variable changes. This violates the assumption of homoscedasticity, which is crucial for many models like linear regression. Heteroscedasticity can lead to inefficient estimates, biased results, and incorrect inferences, making model predictions less reliable. It can also affect hypothesis testing and confidence intervals, leading to misleading conclusions."
      ],
      "metadata": {
        "id": "PwDRYRyTm1NX"
      }
    },
    {
      "cell_type": "markdown",
      "source": [
        "##23.  How does adding irrelevant predictors affect R-squared and Adjusted R-squared?\n"
      ],
      "metadata": {
        "id": "xcQiqW2zm9Eu"
      }
    },
    {
      "cell_type": "markdown",
      "source": [
        "Adding irrelevant predictors (variables that have no real relationship with the dependent variable) to a model generally increases the R-squared value because it captures noise or random fluctuations in the data. This increase in R-squared may give a false impression of better model fit. However, Adjusted R-squared adjusts for the number of predictors and penalizes the inclusion of irrelevant variables. As a result, the Adjusted R-squared may decrease or remain unchanged when irrelevant predictors are added, providing a more accurate measure of model performance by accounting for unnecessary complexity."
      ],
      "metadata": {
        "id": "hq0MTzn4nAmA"
      }
    },
    {
      "cell_type": "markdown",
      "source": [
        "##Practical"
      ],
      "metadata": {
        "id": "bklQgi3FnFRo"
      }
    },
    {
      "cell_type": "markdown",
      "source": [
        "##Write a Python script that calculates the Mean Squared Error (MSE) and Mean Absolute Error (MAE) for a multiple linear regression model using Seaborn's \"diamonds\" dataset."
      ],
      "metadata": {
        "id": "XiynYPP6PqZ9"
      }
    },
    {
      "cell_type": "code",
      "source": [
        "import seaborn as sns\n",
        "import pandas as pd\n",
        "from sklearn.model_selection import train_test_split\n",
        "from sklearn.linear_model import LinearRegression\n",
        "from sklearn.metrics import mean_squared_error, mean_absolute_error\n",
        "\n",
        "# Load the diamonds dataset\n",
        "data = sns.load_dataset(\"diamonds\")\n",
        "\n",
        "# Select relevant features and target\n",
        "features = ['carat', 'depth', 'table', 'x', 'y', 'z']  # Example features\n",
        "target = 'price'\n",
        "\n",
        "# Prepare the data\n",
        "X = data[features]\n",
        "y = data[target]\n",
        "\n",
        "# Split the data into training and testing sets\n",
        "X_train, X_test, y_train, y_test = train_test_split(X, y, test_size=0.2, random_state=42)\n",
        "\n",
        "# Create and fit the model\n",
        "model = LinearRegression()\n",
        "model.fit(X_train, y_train)\n",
        "\n",
        "# Predict on the test set\n",
        "y_pred = model.predict(X_test)\n",
        "\n",
        "# Calculate MSE and MAE\n",
        "mse = mean_squared_error(y_test, y_pred)\n",
        "mae = mean_absolute_error(y_test, y_pred)\n",
        "\n",
        "print(f\"Mean Squared Error (MSE): {mse}\")\n",
        "print(f\"Mean Absolute Error (MAE): {mae}\")\n"
      ],
      "metadata": {
        "colab": {
          "base_uri": "https://localhost:8080/"
        },
        "id": "YbX6UQNhPymP",
        "outputId": "7f9ae054-beb0-4af7-f087-162008e6e21c"
      },
      "execution_count": 1,
      "outputs": [
        {
          "output_type": "stream",
          "name": "stdout",
          "text": [
            "Mean Squared Error (MSE): 2242178.9040856035\n",
            "Mean Absolute Error (MAE): 888.4808633901026\n"
          ]
        }
      ]
    },
    {
      "cell_type": "markdown",
      "source": [
        "##Write a Python script to calculate and print Mean Squared Error (MSE), Mean Absolute Error (MAE), and Root Mean Squared Error (RMSE) for a linear regression model.\n"
      ],
      "metadata": {
        "id": "njg8-lKpQGug"
      }
    },
    {
      "cell_type": "code",
      "source": [
        "from sklearn.metrics import mean_squared_error, mean_absolute_error\n",
        "import numpy as np\n",
        "\n",
        "# Example true values (y_true) and predicted values (y_pred)\n",
        "y_true = [3.0, -0.5, 2.0, 7.0]\n",
        "y_pred = [2.5, 0.0, 2.0, 8.0]\n",
        "\n",
        "# Calculate MSE\n",
        "mse = mean_squared_error(y_true, y_pred)\n",
        "\n",
        "# Calculate MAE\n",
        "mae = mean_absolute_error(y_true, y_pred)\n",
        "\n",
        "# Calculate RMSE\n",
        "rmse = np.sqrt(mse)\n",
        "\n",
        "# Print the results\n",
        "print(f\"Mean Squared Error (MSE): {mse}\")\n",
        "print(f\"Mean Absolute Error (MAE): {mae}\")\n",
        "print(f\"Root Mean Squared Error (RMSE): {rmse}\")\n"
      ],
      "metadata": {
        "colab": {
          "base_uri": "https://localhost:8080/"
        },
        "id": "rEMzYZeEQNYm",
        "outputId": "3073dfd2-999e-4f2a-eead-b95e5aef666d"
      },
      "execution_count": 2,
      "outputs": [
        {
          "output_type": "stream",
          "name": "stdout",
          "text": [
            "Mean Squared Error (MSE): 0.375\n",
            "Mean Absolute Error (MAE): 0.5\n",
            "Root Mean Squared Error (RMSE): 0.6123724356957945\n"
          ]
        }
      ]
    },
    {
      "cell_type": "markdown",
      "source": [
        "##Write a Python script to check if the assumptions of linear regression are met. Use a scatter plot to check linearity, residuals plot for homoscedasticity, and correlation matrix for multicollinearity."
      ],
      "metadata": {
        "id": "4pPFwHVfQgWi"
      }
    },
    {
      "cell_type": "code",
      "source": [
        "import numpy as np\n",
        "import pandas as pd\n",
        "import matplotlib.pyplot as plt\n",
        "import seaborn as sns\n",
        "from sklearn.linear_model import LinearRegression\n",
        "from sklearn.metrics import mean_squared_error\n",
        "\n",
        "# Example data\n",
        "np.random.seed(0)\n",
        "X = np.random.rand(100, 3)\n",
        "y = 3 * X[:, 0] + 2 * X[:, 1] + X[:, 2] + np.random.normal(0, 0.1, 100)\n",
        "\n",
        "# Model\n",
        "model = LinearRegression().fit(X, y)\n",
        "y_pred = model.predict(X)\n",
        "residuals = y - y_pred\n",
        "\n",
        "# Linearity check\n",
        "plt.scatter(y_pred, y)\n",
        "plt.xlabel(\"Predicted\")\n",
        "plt.ylabel(\"Actual\")\n",
        "plt.title(\"Linearity Check\")\n",
        "plt.show()\n",
        "\n",
        "# Homoscedasticity check\n",
        "plt.scatter(y_pred, residuals)\n",
        "plt.axhline(0, color='red', linestyle='--')\n",
        "plt.xlabel(\"Predicted\")\n",
        "plt.ylabel(\"Residuals\")\n",
        "plt.title(\"Homoscedasticity Check\")\n",
        "plt.show()\n",
        "\n",
        "# Multicollinearity check\n",
        "df = pd.DataFrame(X, columns=['Feature1', 'Feature2', 'Feature3'])\n",
        "correlation_matrix = df.corr()\n",
        "sns.heatmap(correlation_matrix, annot=True, cmap=\"coolwarm\")\n",
        "plt.title(\"Correlation Matrix\")\n",
        "plt.show()\n"
      ],
      "metadata": {
        "colab": {
          "base_uri": "https://localhost:8080/",
          "height": 1000
        },
        "id": "oKYCPkyTQlcr",
        "outputId": "47cd6bb1-d83e-4c8a-8df0-6d9cfd3891f6"
      },
      "execution_count": 3,
      "outputs": [
        {
          "output_type": "display_data",
          "data": {
            "text/plain": [
              "<Figure size 640x480 with 1 Axes>"
            ],
            "image/png": "[encoded data removed]"
          },
          "metadata": {}
        },
        {
          "output_type": "display_data",
          "data": {
            "text/plain": [
              "<Figure size 640x480 with 1 Axes>"
            ],
            "image/png": "[encoded data removed]"
          },
          "metadata": {}
        },
        {
          "output_type": "display_data",
          "data": {
            "text/plain": [
              "<Figure size 640x480 with 2 Axes>"
            ],
            "image/png": "[encoded data removed]"
          },
          "metadata": {}
        }
      ]
    },
    {
      "cell_type": "markdown",
      "source": [
        "##Create a machine learning pipeline that standardizes the features, fits a linear regression model, and evaluates the model’s R-squared score."
      ],
      "metadata": {
        "id": "20feWnDsQ9M_"
      }
    },
    {
      "cell_type": "code",
      "source": [
        "from sklearn.pipeline import Pipeline\n",
        "from sklearn.preprocessing import StandardScaler\n",
        "from sklearn.linear_model import LinearRegression\n",
        "from sklearn.model_selection import train_test_split\n",
        "from sklearn.metrics import r2_score\n",
        "from sklearn.datasets import make_regression\n",
        "\n",
        "# Generate dataset\n",
        "X, y = make_regression(n_samples=100, n_features=5, noise=0.1, random_state=42)\n",
        "X_train, X_test, y_train, y_test = train_test_split(X, y, test_size=0.2, random_state=42)\n",
        "\n",
        "# Create pipeline\n",
        "pipeline = Pipeline([\n",
        "    ('scaler', StandardScaler()),\n",
        "    ('regressor', LinearRegression())\n",
        "])\n",
        "\n",
        "# Fit and evaluate\n",
        "pipeline.fit(X_train, y_train)\n",
        "y_pred = pipeline.predict(X_test)\n",
        "print(\"R-squared:\", r2_score(y_test, y_pred))\n"
      ],
      "metadata": {
        "colab": {
          "base_uri": "https://localhost:8080/"
        },
        "id": "hyymk6HqRCFF",
        "outputId": "f9888dde-5a49-482e-d752-519ce5cc6d5f"
      },
      "execution_count": 4,
      "outputs": [
        {
          "output_type": "stream",
          "name": "stdout",
          "text": [
            "R-squared: 0.9999994350808352\n"
          ]
        }
      ]
    },
    {
      "cell_type": "markdown",
      "source": [
        "##Implement a simple linear regression model on a dataset and print the model's coefficients, intercept,and R-squared score."
      ],
      "metadata": {
        "id": "AGLC-arSRLmN"
      }
    },
    {
      "cell_type": "code",
      "source": [
        "from sklearn.linear_model import LinearRegression\n",
        "from sklearn.metrics import r2_score\n",
        "import numpy as np\n",
        "\n",
        "# Sample dataset\n",
        "X = np.array([1, 2, 3, 4, 5]).reshape(-1, 1)  # Features\n",
        "y = np.array([2, 4, 5, 4, 5])  # Target\n",
        "\n",
        "# Fit the model\n",
        "model = LinearRegression()\n",
        "model.fit(X, y)\n",
        "\n",
        "# Predict and calculate R-squared\n",
        "y_pred = model.predict(X)\n",
        "r2 = r2_score(y, y_pred)\n",
        "\n",
        "# Print coefficients, intercept, and R-squared\n",
        "print(f\"Coefficient: {model.coef_[0]}\")\n",
        "print(f\"Intercept: {model.intercept_}\")\n",
        "print(f\"R-squared: {r2}\")\n"
      ],
      "metadata": {
        "colab": {
          "base_uri": "https://localhost:8080/"
        },
        "id": "hhME6pTvRWeQ",
        "outputId": "a6d9d699-8a30-4f31-abbe-f3d718e0acc9"
      },
      "execution_count": 5,
      "outputs": [
        {
          "output_type": "stream",
          "name": "stdout",
          "text": [
            "Coefficient: 0.6\n",
            "Intercept: 2.2\n",
            "R-squared: 0.6000000000000001\n"
          ]
        }
      ]
    },
    {
      "cell_type": "markdown",
      "source": [
        "##Fit a simple linear regression model to the 'tips' dataset and print the slope and intercept of the regression line."
      ],
      "metadata": {
        "id": "iNirOMv3RekY"
      }
    },
    {
      "cell_type": "code",
      "source": [
        "import seaborn as sns\n",
        "from sklearn.linear_model import LinearRegression\n",
        "\n",
        "# Load the 'tips' dataset\n",
        "tips = sns.load_dataset('tips')\n",
        "\n",
        "# Prepare the data\n",
        "X = tips['total_bill'].values.reshape(-1, 1)\n",
        "y = tips['tip']\n",
        "\n",
        "# Fit the linear regression model\n",
        "model = LinearRegression()\n",
        "model.fit(X, y)\n",
        "\n",
        "# Get the slope and intercept\n",
        "slope = model.coef_[0]\n",
        "intercept = model.intercept_\n",
        "\n",
        "slope, intercept\n"
      ],
      "metadata": {
        "colab": {
          "base_uri": "https://localhost:8080/"
        },
        "id": "vMtdGSs7Rkf9",
        "outputId": "4d3c74c9-58c1-40fb-f230-54eafb73db92"
      },
      "execution_count": 6,
      "outputs": [
        {
          "output_type": "execute_result",
          "data": {
            "text/plain": [
              "(0.10502451738435337, 0.9202696135546731)"
            ]
          },
          "metadata": {},
          "execution_count": 6
        }
      ]
    },
    {
      "cell_type": "markdown",
      "source": [
        "##Write a Python script that fits a linear regression model to a synthetic dataset with one feature. Use the model to predict new values and plot the data points along with the regression line."
      ],
      "metadata": {
        "id": "P7hVyB64RtIB"
      }
    },
    {
      "cell_type": "code",
      "source": [
        "import numpy as np\n",
        "import matplotlib.pyplot as plt\n",
        "from sklearn.linear_model import LinearRegression\n",
        "\n",
        "# Generate synthetic data\n",
        "np.random.seed(42)\n",
        "X = np.random.rand(100, 1) * 10  # Feature\n",
        "y = 2.5 * X + np.random.randn(100, 1) * 5  # Target with noise\n",
        "\n",
        "# Fit linear regression model\n",
        "model = LinearRegression()\n",
        "model.fit(X, y)\n",
        "\n",
        "# Predict values\n",
        "X_pred = np.linspace(0, 10, 100).reshape(-1, 1)\n",
        "y_pred = model.predict(X_pred)\n",
        "\n",
        "# Plot data and regression line\n",
        "plt.scatter(X, y, color='blue', label='Data points')\n",
        "plt.plot(X_pred, y_pred, color='red', label='Regression line')\n",
        "plt.xlabel('Feature')\n",
        "plt.ylabel('Target')\n",
        "plt.legend()\n",
        "plt.show()\n"
      ],
      "metadata": {
        "colab": {
          "base_uri": "https://localhost:8080/",
          "height": 449
        },
        "id": "9NvSn8DxR1ts",
        "outputId": "fa36f912-a4d1-435b-c728-491ceb02054a"
      },
      "execution_count": 8,
      "outputs": [
        {
          "output_type": "display_data",
          "data": {
            "text/plain": [
              "<Figure size 640x480 with 1 Axes>"
            ],
            "image/png": "[encoded data removed]"
          },
          "metadata": {}
        }
      ]
    },
    {
      "cell_type": "markdown",
      "source": [
        "##Write a Python script that pickles a trained linear regression model and saves it to a file."
      ],
      "metadata": {
        "id": "Z7BnWYZsSBYj"
      }
    },
    {
      "cell_type": "code",
      "source": [
        "import pickle\n",
        "from sklearn.linear_model import LinearRegression\n",
        "from sklearn.datasets import make_regression\n",
        "\n",
        "# Generate sample data\n",
        "X, y = make_regression(n_samples=100, n_features=1, noise=10, random_state=42)\n",
        "\n",
        "# Train a linear regression model\n",
        "model = LinearRegression()\n",
        "model.fit(X, y)\n",
        "\n",
        "# Save the model to a file using pickle\n",
        "with open('linear_regression_model.pkl', 'wb') as file:\n",
        "    pickle.dump(model, file)\n",
        "\n",
        "print(\"Model saved to 'linear_regression_model.pkl'\")\n"
      ],
      "metadata": {
        "colab": {
          "base_uri": "https://localhost:8080/"
        },
        "id": "-JXswP1WSE-j",
        "outputId": "5a7856c7-fd77-4c4b-c486-bec797a35cf5"
      },
      "execution_count": 9,
      "outputs": [
        {
          "output_type": "stream",
          "name": "stdout",
          "text": [
            "Model saved to 'linear_regression_model.pkl'\n"
          ]
        }
      ]
    },
    {
      "cell_type": "markdown",
      "source": [
        "##Write a Python script that fits a polynomial regression model (degree 2) to a dataset and plots the regression curve."
      ],
      "metadata": {
        "id": "6ftIgnk1SPLc"
      }
    },
    {
      "cell_type": "code",
      "source": [
        "import numpy as np\n",
        "import matplotlib.pyplot as plt\n",
        "from sklearn.linear_model import LinearRegression\n",
        "from sklearn.preprocessing import PolynomialFeatures\n",
        "\n",
        "# Example dataset\n",
        "x = np.array([1, 2, 3, 4, 5]).reshape(-1, 1)\n",
        "y = np.array([2, 4, 9, 16, 25])\n",
        "\n",
        "# Polynomial regression (degree 2)\n",
        "poly = PolynomialFeatures(degree=2)\n",
        "x_poly = poly.fit_transform(x)\n",
        "model = LinearRegression().fit(x_poly, y)\n",
        "\n",
        "# Plot\n",
        "x_curve = np.linspace(min(x), max(x), 100).reshape(-1, 1)\n",
        "y_curve = model.predict(poly.transform(x_curve))\n",
        "plt.scatter(x, y, color='blue')\n",
        "plt.plot(x_curve, y_curve, color='red')\n",
        "plt.show()\n"
      ],
      "metadata": {
        "colab": {
          "base_uri": "https://localhost:8080/",
          "height": 430
        },
        "id": "B2-G6KFMSUju",
        "outputId": "b3a537f6-f313-4834-a88f-8a3105a1959b"
      },
      "execution_count": 10,
      "outputs": [
        {
          "output_type": "display_data",
          "data": {
            "text/plain": [
              "<Figure size 640x480 with 1 Axes>"
            ],
            "image/png": "[encoded data removed]"
          },
          "metadata": {}
        }
      ]
    },
    {
      "cell_type": "markdown",
      "source": [
        "##Generate synthetic data for simple linear regression (use random values for X and y) and fit a linear regression model to the data. Print the model's coefficient and intercept."
      ],
      "metadata": {
        "id": "1dMUBxx0Sd-S"
      }
    },
    {
      "cell_type": "code",
      "source": [
        "import numpy as np\n",
        "from sklearn.linear_model import LinearRegression\n",
        "\n",
        "# Generate synthetic data\n",
        "np.random.seed(42)\n",
        "X = np.random.rand(100, 1) * 10  # Random values for X between 0 and 10\n",
        "y = 2.5 * X + np.random.randn(100, 1) * 2  # Linear relation with noise\n",
        "\n",
        "# Fit a linear regression model\n",
        "model = LinearRegression()\n",
        "model.fit(X, y)\n",
        "\n",
        "# Print the model's coefficient and intercept\n",
        "model_coefficient = model.coef_[0][0]\n",
        "model_intercept = model.intercept_[0]\n",
        "\n",
        "model_coefficient, model_intercept\n"
      ],
      "metadata": {
        "colab": {
          "base_uri": "https://localhost:8080/"
        },
        "id": "JwrY6RHkSiqa",
        "outputId": "5f679db3-4089-4f53-9779-c0065ae5fc6b"
      },
      "execution_count": 11,
      "outputs": [
        {
          "output_type": "execute_result",
          "data": {
            "text/plain": [
              "(2.4080453545753935, 0.4301923150934943)"
            ]
          },
          "metadata": {},
          "execution_count": 11
        }
      ]
    },
    {
      "cell_type": "markdown",
      "source": [
        "##Write a Python script that fits a polynomial regression model (degree 3) to a synthetic non-linear dataset and plots the curve."
      ],
      "metadata": {
        "id": "8vm96LtISrR1"
      }
    },
    {
      "cell_type": "code",
      "source": [
        "import numpy as np\n",
        "import matplotlib.pyplot as plt\n",
        "from sklearn.preprocessing import PolynomialFeatures\n",
        "from sklearn.linear_model import LinearRegression\n",
        "\n",
        "# Generate synthetic non-linear data\n",
        "np.random.seed(42)\n",
        "X = np.linspace(-3, 3, 100).reshape(-1, 1)\n",
        "y = X**3 - 4*X + np.random.normal(0, 3, size=X.shape)\n",
        "\n",
        "# Fit polynomial regression (degree 3)\n",
        "poly = PolynomialFeatures(degree=3)\n",
        "X_poly = poly.fit_transform(X)\n",
        "model = LinearRegression().fit(X_poly, y)\n",
        "\n",
        "# Predict and plot\n",
        "X_fit = np.linspace(-3, 3, 500).reshape(-1, 1)\n",
        "y_fit = model.predict(poly.transform(X_fit))\n",
        "plt.scatter(X, y, color='blue', label='Data')\n",
        "plt.plot(X_fit, y_fit, color='red', label='Polynomial Fit (degree 3)')\n",
        "plt.legend()\n",
        "plt.show()\n"
      ],
      "metadata": {
        "colab": {
          "base_uri": "https://localhost:8080/",
          "height": 430
        },
        "id": "QiTm0BWlSwsG",
        "outputId": "d6ad3e76-4b8a-49a8-eaf3-1b4500c00723"
      },
      "execution_count": 15,
      "outputs": [
        {
          "output_type": "display_data",
          "data": {
            "text/plain": [
              "<Figure size 640x480 with 1 Axes>"
            ],
            "image/png": "[encoded data removed]"
          },
          "metadata": {}
        }
      ]
    },
    {
      "cell_type": "markdown",
      "source": [
        "##Write a Python script that fits a simple linear regression model with two features and prints the model's coefficients, intercept, and R-squared score."
      ],
      "metadata": {
        "id": "j1LdZDw5TYaB"
      }
    },
    {
      "cell_type": "code",
      "source": [
        "from sklearn.linear_model import LinearRegression\n",
        "from sklearn.metrics import r2_score\n",
        "import numpy as np\n",
        "\n",
        "# Example data\n",
        "X = np.array([[1, 2], [2, 3], [3, 4], [4, 5]])\n",
        "y = np.array([3, 5, 7, 9])\n",
        "\n",
        "# Fit the model\n",
        "model = LinearRegression()\n",
        "model.fit(X, y)\n",
        "\n",
        "# Predictions and metrics\n",
        "y_pred = model.predict(X)\n",
        "r2 = r2_score(y, y_pred)\n",
        "\n",
        "# Outputs\n",
        "print(\"Coefficients:\", model.coef_)\n",
        "print(\"Intercept:\", model.intercept_)\n",
        "print(\"R-squared:\", r2)\n"
      ],
      "metadata": {
        "colab": {
          "base_uri": "https://localhost:8080/"
        },
        "id": "rrewhGuWTgcO",
        "outputId": "76f08eab-2dbc-43e7-f627-7a29d94bbf5e"
      },
      "execution_count": 17,
      "outputs": [
        {
          "output_type": "stream",
          "name": "stdout",
          "text": [
            "Coefficients: [1. 1.]\n",
            "Intercept: 1.7763568394002505e-15\n",
            "R-squared: 1.0\n"
          ]
        }
      ]
    },
    {
      "cell_type": "markdown",
      "source": [
        "##Write a Python script that generates a synthetic dataset, fits a linear regression model, and calculates the Mean Squared Error (MSE), Mean Absolute Error (MAE), and Root Mean Squared Error (RMSE)."
      ],
      "metadata": {
        "id": "7AOQhMPcTzMK"
      }
    },
    {
      "cell_type": "code",
      "source": [
        "import numpy as np\n",
        "from sklearn.model_selection import train_test_split\n",
        "from sklearn.linear_model import LinearRegression\n",
        "from sklearn.metrics import mean_squared_error, mean_absolute_error\n",
        "\n",
        "# Generate synthetic dataset\n",
        "np.random.seed(42)\n",
        "X = np.random.rand(100, 1) * 10\n",
        "y = 2 * X.flatten() + 3 + np.random.randn(100) * 2\n",
        "\n",
        "# Split data into training and testing sets\n",
        "X_train, X_test, y_train, y_test = train_test_split(X, y, test_size=0.2, random_state=42)\n",
        "\n",
        "# Fit linear regression model\n",
        "model = LinearRegression()\n",
        "model.fit(X_train, y_train)\n",
        "\n",
        "# Make predictions\n",
        "y_pred = model.predict(X_test)\n",
        "\n",
        "# Calculate errors\n",
        "mse = mean_squared_error(y_test, y_pred)\n",
        "mae = mean_absolute_error(y_test, y_pred)\n",
        "rmse = np.sqrt(mse)\n",
        "\n",
        "print(f\"MSE: {mse:.2f}, MAE: {mae:.2f}, RMSE: {rmse:.2f}\")\n"
      ],
      "metadata": {
        "colab": {
          "base_uri": "https://localhost:8080/"
        },
        "id": "YmSP7HznT4kf",
        "outputId": "8894250a-0891-49ac-ca57-6a040fe50307"
      },
      "execution_count": 18,
      "outputs": [
        {
          "output_type": "stream",
          "name": "stdout",
          "text": [
            "MSE: 2.61, MAE: 1.18, RMSE: 1.62\n"
          ]
        }
      ]
    },
    {
      "cell_type": "markdown",
      "source": [
        "##Write a Python script that uses the Variance Inflation Factor (VIF) to check for multicollinearity in a dataset with multiple features."
      ],
      "metadata": {
        "id": "K_GrVHZQUHSp"
      }
    },
    {
      "cell_type": "code",
      "source": [
        "# Import necessary libraries\n",
        "import pandas as pd\n",
        "from statsmodels.stats.outliers_influence import variance_inflation_factor\n",
        "from statsmodels.tools.tools import add_constant\n",
        "\n",
        "# Load your dataset (replace 'your_data.csv' with the actual file path)\n",
        "# df = pd.read_csv('your_data.csv')\n",
        "\n",
        "# For this example, let's create a sample dataset\n",
        "data = {\n",
        "    'feature1': [1, 2, 3, 4, 5],\n",
        "    'feature2': [2, 4, 6, 8, 10],\n",
        "    'feature3': [5, 4, 3, 2, 1]\n",
        "}\n",
        "df = pd.DataFrame(data)\n",
        "\n",
        "# Add a constant column to the dataset (for the intercept term in VIF calculation)\n",
        "df_with_const = add_constant(df)\n",
        "\n",
        "# Calculate VIF for each feature\n",
        "vif_data = pd.DataFrame()\n",
        "vif_data['Feature'] = df_with_const.columns\n",
        "\n",
        "# Calculate the VIF for each feature\n",
        "vif_data['VIF'] = [variance_inflation_factor(df_with_const.values, i) for i in range(df_with_const.shape[1])]\n",
        "\n",
        "# Display the VIF values\n",
        "print(vif_data)\n"
      ],
      "metadata": {
        "colab": {
          "base_uri": "https://localhost:8080/"
        },
        "id": "EPwbgvJjUKy4",
        "outputId": "598dbf78-3bd2-4431-c735-67b9ab81e049"
      },
      "execution_count": 25,
      "outputs": [
        {
          "output_type": "stream",
          "name": "stdout",
          "text": [
            "    Feature  VIF\n",
            "0     const  0.0\n",
            "1  feature1  inf\n",
            "2  feature2  inf\n",
            "3  feature3  inf\n"
          ]
        },
        {
          "output_type": "stream",
          "name": "stderr",
          "text": [
            "/usr/local/lib/python3.10/dist-packages/statsmodels/regression/linear_model.py:1782: RuntimeWarning: divide by zero encountered in scalar divide\n",
            "  return 1 - self.ssr/self.centered_tss\n",
            "/usr/local/lib/python3.10/dist-packages/statsmodels/stats/outliers_influence.py:197: RuntimeWarning: divide by zero encountered in scalar divide\n",
            "  vif = 1. / (1. - r_squared_i)\n"
          ]
        }
      ]
    },
    {
      "cell_type": "markdown",
      "source": [
        "##Write a Python script that generates synthetic data for a polynomial relationship (degree 4), fits a polynomial regression model, and plots the regression curve."
      ],
      "metadata": {
        "id": "WGvbkUPoVXTq"
      }
    },
    {
      "cell_type": "code",
      "source": [
        "import numpy as np\n",
        "import matplotlib.pyplot as plt\n",
        "from sklearn.preprocessing import PolynomialFeatures\n",
        "from sklearn.linear_model import LinearRegression\n",
        "\n",
        "# Generate synthetic data\n",
        "X = np.random.uniform(-5, 5, (100, 1))\n",
        "y = X**4 + 3*X**3 - 2*X**2 + X + np.random.normal(0, 2, (100, 1))\n",
        "\n",
        "# Polynomial regression\n",
        "poly = PolynomialFeatures(degree=4)\n",
        "X_poly = poly.fit_transform(X)\n",
        "model = LinearRegression().fit(X_poly, y)\n",
        "\n",
        "# Plotting\n",
        "plt.scatter(X, y, color='blue')\n",
        "plt.plot(np.sort(X), model.predict(poly.transform(np.sort(X).reshape(-1, 1))), color='red')\n",
        "plt.show()\n"
      ],
      "metadata": {
        "colab": {
          "base_uri": "https://localhost:8080/",
          "height": 430
        },
        "id": "RNLWCpKxVg1U",
        "outputId": "1a9091dc-5d06-4ec2-f5b3-802188601a85"
      },
      "execution_count": 26,
      "outputs": [
        {
          "output_type": "display_data",
          "data": {
            "text/plain": [
              "<Figure size 640x480 with 1 Axes>"
            ],
            "image/png": "[encoded data removed]"
          },
          "metadata": {}
        }
      ]
    },
    {
      "cell_type": "markdown",
      "source": [
        "##Write a Python script that creates a machine learning pipeline with data standardization and a multiple linear regression model, and prints the R-squared score."
      ],
      "metadata": {
        "id": "fBBX_nMaVkjC"
      }
    },
    {
      "cell_type": "code",
      "source": [
        "import numpy as np\n",
        "import pandas as pd\n",
        "from sklearn.model_selection import train_test_split\n",
        "from sklearn.linear_model import LinearRegression\n",
        "from sklearn.preprocessing import StandardScaler\n",
        "from sklearn.pipeline import make_pipeline\n",
        "from sklearn.metrics import r2_score\n",
        "\n",
        "# Example data\n",
        "data = pd.DataFrame({'X1': np.random.rand(100), 'X2': np.random.rand(100), 'Y': np.random.rand(100)})\n",
        "X = data[['X1', 'X2']]\n",
        "y = data['Y']\n",
        "\n",
        "# Train-test split\n",
        "X_train, X_test, y_train, y_test = train_test_split(X, y, test_size=0.2, random_state=42)\n",
        "\n",
        "# Pipeline: Standardization + Linear Regression\n",
        "pipeline = make_pipeline(StandardScaler(), LinearRegression())\n",
        "pipeline.fit(X_train, y_train)\n",
        "\n",
        "# Predictions and R-squared score\n",
        "y_pred = pipeline.predict(X_test)\n",
        "print(f'R-squared: {r2_score(y_test, y_pred)}')\n"
      ],
      "metadata": {
        "colab": {
          "base_uri": "https://localhost:8080/"
        },
        "id": "PmA69XGqVqSE",
        "outputId": "515a6681-aa4c-45c4-f000-18bc51ed4235"
      },
      "execution_count": 27,
      "outputs": [
        {
          "output_type": "stream",
          "name": "stdout",
          "text": [
            "R-squared: -0.23275593834068276\n"
          ]
        }
      ]
    },
    {
      "cell_type": "markdown",
      "source": [
        "##Write a Python script that performs polynomial regression (degree 3) on a synthetic dataset and plots the regression curve."
      ],
      "metadata": {
        "id": "Z6nOkNx7Vwct"
      }
    },
    {
      "cell_type": "code",
      "source": [
        "import numpy as np\n",
        "import matplotlib.pyplot as plt\n",
        "from sklearn.preprocessing import PolynomialFeatures\n",
        "from sklearn.linear_model import LinearRegression\n",
        "\n",
        "# Generate synthetic data\n",
        "np.random.seed(0)\n",
        "X = np.linspace(-5, 5, 100).reshape(-1, 1)\n",
        "y = X**3 + np.random.randn(100, 1) * 50\n",
        "\n",
        "# Polynomial regression (degree 3)\n",
        "poly = PolynomialFeatures(degree=3)\n",
        "X_poly = poly.fit_transform(X)\n",
        "model = LinearRegression()\n",
        "model.fit(X_poly, y)\n",
        "\n",
        "# Plotting\n",
        "plt.scatter(X, y, color='blue')\n",
        "plt.plot(X, model.predict(X_poly), color='red')\n",
        "plt.title('Polynomial Regression (Degree 3)')\n",
        "plt.show()\n"
      ],
      "metadata": {
        "colab": {
          "base_uri": "https://localhost:8080/",
          "height": 452
        },
        "id": "ukvX5oM3Vz01",
        "outputId": "aa18fec0-0d4b-4dc9-b47c-35759e1ee097"
      },
      "execution_count": 28,
      "outputs": [
        {
          "output_type": "display_data",
          "data": {
            "text/plain": [
              "<Figure size 640x480 with 1 Axes>"
            ],
            "image/png": "[encoded data removed]"
          },
          "metadata": {}
        }
      ]
    },
    {
      "cell_type": "markdown",
      "source": [
        "##Write a Python script that performs multiple linear regression on a synthetic dataset with 5 features. Print the R-squared score and model coefficients."
      ],
      "metadata": {
        "id": "KQPqGl4CV5w1"
      }
    },
    {
      "cell_type": "code",
      "source": [
        "import numpy as np\n",
        "from sklearn.linear_model import LinearRegression\n",
        "from sklearn.model_selection import train_test_split\n",
        "from sklearn.metrics import r2_score\n",
        "\n",
        "# Generate synthetic data\n",
        "np.random.seed(42)\n",
        "X = np.random.rand(100, 5)\n",
        "y = 3 * X[:, 0] + 2 * X[:, 1] - X[:, 2] + 4 * X[:, 3] - 2 * X[:, 4] + np.random.randn(100)\n",
        "\n",
        "# Split the data into training and testing sets\n",
        "X_train, X_test, y_train, y_test = train_test_split(X, y, test_size=0.2, random_state=42)\n",
        "\n",
        "# Train the model\n",
        "model = LinearRegression()\n",
        "model.fit(X_train, y_train)\n",
        "\n",
        "# Predict and evaluate\n",
        "y_pred = model.predict(X_test)\n",
        "r2 = r2_score(y_test, y_pred)\n",
        "\n",
        "# Print results\n",
        "print(f'R-squared: {r2:.4f}')\n",
        "print(f'Coefficients: {model.coef_}')\n"
      ],
      "metadata": {
        "colab": {
          "base_uri": "https://localhost:8080/"
        },
        "id": "P-eDaFMxV-BN",
        "outputId": "88559d4b-b07e-437a-f7da-67c8768a0a02"
      },
      "execution_count": 29,
      "outputs": [
        {
          "output_type": "stream",
          "name": "stdout",
          "text": [
            "R-squared: 0.5968\n",
            "Coefficients: [ 2.65295867  1.76607667 -0.35209671  4.1455846  -2.44564017]\n"
          ]
        }
      ]
    },
    {
      "cell_type": "markdown",
      "source": [
        "##Write a Python script that generates synthetic data for linear regression, fits a model, and visualizes the data points along with the regression line."
      ],
      "metadata": {
        "id": "uJjJhNWoWERk"
      }
    },
    {
      "cell_type": "code",
      "source": [
        "import numpy as np\n",
        "import matplotlib.pyplot as plt\n",
        "from sklearn.linear_model import LinearRegression\n",
        "\n",
        "# Generate synthetic data\n",
        "X = np.random.rand(100, 1) * 10  # 100 data points, scaled between 0 and 10\n",
        "y = 2 * X + 1 + np.random.randn(100, 1)  # y = 2x + 1 + noise\n",
        "\n",
        "# Fit linear regression model\n",
        "model = LinearRegression()\n",
        "model.fit(X, y)\n",
        "\n",
        "# Visualize data and regression line\n",
        "plt.scatter(X, y, color='blue')\n",
        "plt.plot(X, model.predict(X), color='red')\n",
        "plt.xlabel('X')\n",
        "plt.ylabel('y')\n",
        "plt.title('Linear Regression')\n",
        "plt.show()\n"
      ],
      "metadata": {
        "colab": {
          "base_uri": "https://localhost:8080/",
          "height": 472
        },
        "id": "Opm2Hi1kWJEv",
        "outputId": "26564605-53f1-4294-c4a4-eb1ef2665b51"
      },
      "execution_count": 30,
      "outputs": [
        {
          "output_type": "display_data",
          "data": {
            "text/plain": [
              "<Figure size 640x480 with 1 Axes>"
            ],
            "image/png": "[encoded data removed]"
          },
          "metadata": {}
        }
      ]
    },
    {
      "cell_type": "markdown",
      "source": [
        "##Create a synthetic dataset with 3 features and perform multiple linear regression. Print the model's Rsquared score and coefficients."
      ],
      "metadata": {
        "id": "8MA8uNMzWOSQ"
      }
    },
    {
      "cell_type": "code",
      "source": [
        "import numpy as np\n",
        "import pandas as pd\n",
        "from sklearn.linear_model import LinearRegression\n",
        "from sklearn.model_selection import train_test_split\n",
        "from sklearn.metrics import r2_score\n",
        "\n",
        "# Generate synthetic data\n",
        "np.random.seed(42)\n",
        "X = np.random.rand(100, 3)  # 100 samples, 3 features\n",
        "y = 2 * X[:, 0] + 3 * X[:, 1] + 4 * X[:, 2] + np.random.randn(100)  # Linear combination with noise\n",
        "\n",
        "# Split data into training and testing sets\n",
        "X_train, X_test, y_train, y_test = train_test_split(X, y, test_size=0.2, random_state=42)\n",
        "\n",
        "# Fit multiple linear regression model\n",
        "model = LinearRegression()\n",
        "model.fit(X_train, y_train)\n",
        "\n",
        "# Predictions and evaluation\n",
        "y_pred = model.predict(X_test)\n",
        "r2 = r2_score(y_test, y_pred)\n",
        "\n",
        "# Display results\n",
        "r2, model.coef_\n"
      ],
      "metadata": {
        "colab": {
          "base_uri": "https://localhost:8080/"
        },
        "id": "Efhv3PKBWR2C",
        "outputId": "e548937c-a6a9-4588-cf87-2ed74d5d6a7e"
      },
      "execution_count": 31,
      "outputs": [
        {
          "output_type": "execute_result",
          "data": {
            "text/plain": [
              "(0.5725302053215846, array([2.10589767, 2.92460599, 4.68605925]))"
            ]
          },
          "metadata": {},
          "execution_count": 31
        }
      ]
    },
    {
      "cell_type": "markdown",
      "source": [
        "##Write a Python script to pickle a trained linear regression model, save it to a file, and load it back for prediction."
      ],
      "metadata": {
        "id": "MoROP-CqWZKi"
      }
    },
    {
      "cell_type": "code",
      "source": [
        "import pickle\n",
        "from sklearn.linear_model import LinearRegression\n",
        "from sklearn.datasets import make_regression\n",
        "\n",
        "# Train a simple linear regression model\n",
        "X, y = make_regression(n_samples=100, n_features=1, noise=0.1)\n",
        "model = LinearRegression().fit(X, y)\n",
        "\n",
        "# Save the model to a file using pickle\n",
        "with open('linear_model.pkl', 'wb') as file:\n",
        "    pickle.dump(model, file)\n",
        "\n",
        "# Load the model from the file for prediction\n",
        "with open('linear_model.pkl', 'rb') as file:\n",
        "    loaded_model = pickle.load(file)\n",
        "\n",
        "# Make a prediction\n",
        "prediction = loaded_model.predict([[1.5]])\n",
        "print(prediction)\n"
      ],
      "metadata": {
        "colab": {
          "base_uri": "https://localhost:8080/"
        },
        "id": "jryOmwG3Wc9L",
        "outputId": "278c9e38-f0dd-4b22-972a-fe6eb74b8983"
      },
      "execution_count": 32,
      "outputs": [
        {
          "output_type": "stream",
          "name": "stdout",
          "text": [
            "[135.61377047]\n"
          ]
        }
      ]
    },
    {
      "cell_type": "markdown",
      "source": [
        "##Write a Python script to perform linear regression with categorical features using one-hot encoding. Use the Seaborn 'tips' dataset."
      ],
      "metadata": {
        "id": "psKAPHb5WiUZ"
      }
    },
    {
      "cell_type": "code",
      "source": [
        "# Importing necessary libraries\n",
        "import seaborn as sns\n",
        "import pandas as pd\n",
        "import statsmodels.api as sm\n",
        "from sklearn.model_selection import train_test_split\n",
        "from sklearn.linear_model import LinearRegression\n",
        "from sklearn.preprocessing import OneHotEncoder\n",
        "from sklearn.compose import ColumnTransformer\n",
        "from sklearn.pipeline import Pipeline\n",
        "from sklearn.metrics import mean_squared_error\n",
        "\n",
        "# Load the Seaborn tips dataset\n",
        "tips = sns.load_dataset('tips')\n",
        "\n",
        "# Displaying the first few rows of the dataset\n",
        "print(tips.head())\n",
        "\n",
        "# Encoding categorical features (e.g., 'sex', 'smoker', 'day', 'time', 'sex' columns)\n",
        "# Using OneHotEncoder for categorical variables\n",
        "\n",
        "# Create a column transformer for one-hot encoding\n",
        "column_transformer = ColumnTransformer(\n",
        "    transformers=[\n",
        "        ('cat', OneHotEncoder(), ['sex', 'smoker', 'day', 'time'])\n",
        "    ],\n",
        "    remainder='passthrough'  # Leave other columns as they are (i.e., 'total_bill', 'tip', etc.)\n",
        ")\n",
        "\n",
        "# Prepare the data: Use total_bill as the predictor and tip as the dependent variable\n",
        "X = tips[['total_bill', 'sex', 'smoker', 'day', 'time']]\n",
        "y = tips['tip']\n",
        "\n",
        "# Split the data into training and testing sets\n",
        "X_train, X_test, y_train, y_test = train_test_split(X, y, test_size=0.2, random_state=42)\n",
        "\n",
        "# Set up the pipeline with OneHotEncoder and LinearRegression\n",
        "pipeline = Pipeline(steps=[\n",
        "    ('preprocessor', column_transformer),\n",
        "    ('regressor', LinearRegression())\n",
        "])\n",
        "\n",
        "# Train the model\n",
        "pipeline.fit(X_train, y_train)\n",
        "\n",
        "# Predict on the test set\n",
        "y_pred = pipeline.predict(X_test)\n",
        "\n",
        "# Evaluate the model\n",
        "mse = mean_squared_error(y_test, y_pred)\n",
        "print(f'Mean Squared Error: {mse}')\n",
        "\n",
        "# Display some of the predictions versus actual values\n",
        "comparison = pd.DataFrame({'Actual': y_test, 'Predicted': y_pred})\n",
        "print(comparison.head())\n"
      ],
      "metadata": {
        "colab": {
          "base_uri": "https://localhost:8080/"
        },
        "id": "41HxEkPzWmVp",
        "outputId": "5b17c0b1-c572-469f-8d0e-02abd0fb5785"
      },
      "execution_count": 35,
      "outputs": [
        {
          "output_type": "stream",
          "name": "stdout",
          "text": [
            "   total_bill   tip     sex smoker  day    time  size\n",
            "0       16.99  1.01  Female     No  Sun  Dinner     2\n",
            "1       10.34  1.66    Male     No  Sun  Dinner     3\n",
            "2       21.01  3.50    Male     No  Sun  Dinner     3\n",
            "3       23.68  3.31    Male     No  Sun  Dinner     2\n",
            "4       24.59  3.61  Female     No  Sun  Dinner     4\n",
            "Mean Squared Error: 0.6532874712921359\n",
            "     Actual  Predicted\n",
            "24     3.18   3.047422\n",
            "6      2.00   2.030162\n",
            "153    2.00   3.754319\n",
            "211    5.16   3.451669\n",
            "198    2.00   2.138746\n"
          ]
        }
      ]
    },
    {
      "cell_type": "markdown",
      "source": [
        "##Compare Ridge Regression with Linear Regression on a synthetic dataset and print the coefficients and Rsquared score."
      ],
      "metadata": {
        "id": "dP2T6PjKW7ta"
      }
    },
    {
      "cell_type": "code",
      "source": [
        "import numpy as np\n",
        "import pandas as pd\n",
        "from sklearn.linear_model import LinearRegression, Ridge\n",
        "from sklearn.model_selection import train_test_split\n",
        "from sklearn.metrics import r2_score\n",
        "\n",
        "# Generate synthetic dataset\n",
        "np.random.seed(42)\n",
        "X = np.random.rand(100, 5)  # 100 samples, 5 features\n",
        "y = X @ np.array([1.5, -2.0, 3.0, 0.5, -1.0]) + np.random.randn(100)  # Linear combination with noise\n",
        "\n",
        "# Split the dataset into training and testing sets\n",
        "X_train, X_test, y_train, y_test = train_test_split(X, y, test_size=0.2, random_state=42)\n",
        "\n",
        "# Linear Regression Model\n",
        "lin_reg = LinearRegression()\n",
        "lin_reg.fit(X_train, y_train)\n",
        "y_pred_lin_reg = lin_reg.predict(X_test)\n",
        "r2_lin_reg = r2_score(y_test, y_pred_lin_reg)\n",
        "\n",
        "# Ridge Regression Model\n",
        "ridge_reg = Ridge(alpha=1.0)\n",
        "ridge_reg.fit(X_train, y_train)\n",
        "y_pred_ridge_reg = ridge_reg.predict(X_test)\n",
        "r2_ridge_reg = r2_score(y_test, y_pred_ridge_reg)\n",
        "\n",
        "# Print coefficients and R-squared score for both models\n",
        "coefficients_lin_reg = lin_reg.coef_\n",
        "coefficients_ridge_reg = ridge_reg.coef_\n",
        "\n",
        "(coefficients_lin_reg, r2_lin_reg, coefficients_ridge_reg, r2_ridge_reg)\n"
      ],
      "metadata": {
        "colab": {
          "base_uri": "https://localhost:8080/"
        },
        "id": "NEBF1k-_W-bh",
        "outputId": "12e0b860-2588-44af-83ed-50dd808d1920"
      },
      "execution_count": 36,
      "outputs": [
        {
          "output_type": "execute_result",
          "data": {
            "text/plain": [
              "(array([ 1.15295867, -2.23392333,  3.64790329,  0.6455846 , -1.44564017]),\n",
              " 0.41729105437470315,\n",
              " array([ 0.99069758, -1.94986802,  3.1162987 ,  0.47118777, -1.24934822]),\n",
              " 0.43572827127024183)"
            ]
          },
          "metadata": {},
          "execution_count": 36
        }
      ]
    },
    {
      "cell_type": "markdown",
      "source": [
        "##Write a Python script that uses cross-validation to evaluate a Linear Regression model on a synthetic dataset."
      ],
      "metadata": {
        "id": "GSYpWnpQXHhv"
      }
    },
    {
      "cell_type": "code",
      "source": [
        "# Import necessary libraries\n",
        "import numpy as np\n",
        "from sklearn.model_selection import cross_val_score\n",
        "from sklearn.linear_model import LinearRegression\n",
        "from sklearn.datasets import make_regression\n",
        "\n",
        "# Generate a synthetic dataset with 100 samples, 1 feature, and some noise\n",
        "X, y = make_regression(n_samples=100, n_features=1, noise=0.1)\n",
        "\n",
        "# Initialize the Linear Regression model\n",
        "model = LinearRegression()\n",
        "\n",
        "# Perform 5-fold cross-validation to evaluate the model\n",
        "scores = cross_val_score(model, X, y, cv=5, scoring='neg_mean_squared_error')\n",
        "\n",
        "# Print the mean and standard deviation of the scores\n",
        "print(f'Mean MSE: {-scores.mean()}')\n",
        "print(f'Standard Deviation of MSE: {scores.std()}')\n"
      ],
      "metadata": {
        "colab": {
          "base_uri": "https://localhost:8080/"
        },
        "id": "ZqWe8QrgXLF-",
        "outputId": "2a099d85-95c6-4439-cba5-7e250385d03d"
      },
      "execution_count": 37,
      "outputs": [
        {
          "output_type": "stream",
          "name": "stdout",
          "text": [
            "Mean MSE: 0.010643529271584795\n",
            "Standard Deviation of MSE: 0.0014123658124965382\n"
          ]
        }
      ]
    },
    {
      "cell_type": "markdown",
      "source": [
        "##Write a Python script that compares polynomial regression models of different degrees and prints the Rsquared score for each."
      ],
      "metadata": {
        "id": "AVTpTG9YXRMn"
      }
    },
    {
      "cell_type": "code",
      "source": [
        "import numpy as np\n",
        "import matplotlib.pyplot as plt\n",
        "from sklearn.model_selection import train_test_split\n",
        "from sklearn.preprocessing import PolynomialFeatures\n",
        "from sklearn.linear_model import LinearRegression\n",
        "from sklearn.metrics import r2_score\n",
        "\n",
        "# Generating some sample data\n",
        "np.random.seed(0)\n",
        "X = np.random.rand(100, 1) * 10  # Feature values\n",
        "y = 2 * X**2 + 3 * X + 5 + np.random.randn(100, 1) * 10  # Target values with noise\n",
        "\n",
        "# Splitting the data into training and testing sets\n",
        "X_train, X_test, y_train, y_test = train_test_split(X, y, test_size=0.2, random_state=0)\n",
        "\n",
        "# Function to fit polynomial regression and print R-squared scores\n",
        "def compare_polynomial_regression_degrees(X_train, X_test, y_train, y_test, max_degree=5):\n",
        "    for degree in range(1, max_degree + 1):\n",
        "        # Transforming the features to polynomial features\n",
        "        poly = PolynomialFeatures(degree=degree)\n",
        "        X_poly_train = poly.fit_transform(X_train)\n",
        "        X_poly_test = poly.transform(X_test)\n",
        "\n",
        "        # Fitting the model\n",
        "        model = LinearRegression()\n",
        "        model.fit(X_poly_train, y_train)\n",
        "\n",
        "        # Predicting and calculating R-squared\n",
        "        y_pred = model.predict(X_poly_test)\n",
        "        r2 = r2_score(y_test, y_pred)\n",
        "\n",
        "        print(f\"Degree {degree}: R-squared score = {r2:.4f}\")\n",
        "\n",
        "# Run the comparison\n",
        "compare_polynomial_regression_degrees(X_train, X_test, y_train, y_test)\n"
      ],
      "metadata": {
        "colab": {
          "base_uri": "https://localhost:8080/"
        },
        "id": "nnK8e5C7XWUk",
        "outputId": "49cd0b65-b1ef-4bf6-dcee-73ffb80ef3d6"
      },
      "execution_count": 38,
      "outputs": [
        {
          "output_type": "stream",
          "name": "stdout",
          "text": [
            "Degree 1: R-squared score = 0.9358\n",
            "Degree 2: R-squared score = 0.9781\n",
            "Degree 3: R-squared score = 0.9780\n",
            "Degree 4: R-squared score = 0.9777\n",
            "Degree 5: R-squared score = 0.9777\n"
          ]
        }
      ]
    },
    {
      "cell_type": "markdown",
      "source": [
        "##Write a Python script that adds interaction terms to a linear regression model and prints the coefficients."
      ],
      "metadata": {
        "id": "kKbkgPeiXc50"
      }
    },
    {
      "cell_type": "code",
      "source": [
        "import pandas as pd\n",
        "import numpy as np\n",
        "from sklearn.linear_model import LinearRegression\n",
        "from sklearn.model_selection import train_test_split\n",
        "from sklearn.preprocessing import PolynomialFeatures\n",
        "\n",
        "# Sample data (you can replace this with your dataset)\n",
        "data = {\n",
        "    'X1': [1, 2, 3, 4, 5],\n",
        "    'X2': [5, 4, 3, 2, 1],\n",
        "    'Y': [5, 7, 9, 11, 13]\n",
        "}\n",
        "df = pd.DataFrame(data)\n",
        "\n",
        "# Define independent variables (X) and dependent variable (Y)\n",
        "X = df[['X1', 'X2']]\n",
        "Y = df['Y']\n",
        "\n",
        "# Create interaction terms using PolynomialFeatures\n",
        "poly = PolynomialFeatures(interaction_only=True, include_bias=False)\n",
        "X_interaction = poly.fit_transform(X)\n",
        "\n",
        "# Train-test split\n",
        "X_train, X_test, Y_train, Y_test = train_test_split(X_interaction, Y, test_size=0.2, random_state=42)\n",
        "\n",
        "# Fit linear regression model\n",
        "model = LinearRegression()\n",
        "model.fit(X_train, Y_train)\n",
        "\n",
        "# Print the coefficients (including interaction terms)\n",
        "print(\"Coefficients:\", model.coef_)\n",
        "print(\"Intercept:\", model.intercept_)\n"
      ],
      "metadata": {
        "colab": {
          "base_uri": "https://localhost:8080/"
        },
        "id": "ken24sP9Xfm2",
        "outputId": "b2f362d3-76fa-4b24-f201-f3d4d84702f8"
      },
      "execution_count": 39,
      "outputs": [
        {
          "output_type": "stream",
          "name": "stdout",
          "text": [
            "Coefficients: [ 1.00000000e+00 -1.00000000e+00 -1.11022302e-16]\n",
            "Intercept: 9.0\n"
          ]
        }
      ]
    }
  ]
}